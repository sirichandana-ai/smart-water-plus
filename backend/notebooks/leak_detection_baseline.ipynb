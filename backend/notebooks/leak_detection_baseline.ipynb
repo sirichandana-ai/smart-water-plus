{
 "cells": [
  {
   "cell_type": "code",
   "execution_count": 1,
   "id": "59a42054",
   "metadata": {},
   "outputs": [],
   "source": [
    "import pandas as pd\n",
    "from sklearn.model_selection import train_test_split\n",
    "from sklearn.preprocessing import StandardScaler\n",
    "from sklearn.linear_model import LogisticRegression\n",
    "from sklearn.ensemble import RandomForestClassifier\n",
    "from sklearn.metrics import accuracy_score, classification_report, confusion_matrix\n"
   ]
  },
  {
   "cell_type": "code",
   "execution_count": 6,
   "id": "d09940ff",
   "metadata": {},
   "outputs": [],
   "source": [
    "train = pd.read_csv(r\"C:\\Mini_Project_4-1\\smart-water-plus\\simulation\\simulation\\datasets\\train.csv\")\n",
    "test = pd.read_csv(r\"C:\\Mini_Project_4-1\\smart-water-plus\\simulation\\simulation\\datasets\\test.csv\")\n",
    "\n",
    "\n",
    "X_train, y_train = train.drop(columns=['leak', 'timestamp']), train['leak']\n",
    "X_test, y_test = test.drop(columns=['leak', 'timestamp']), test['leak']\n",
    "\n",
    "\n"
   ]
  },
  {
   "cell_type": "code",
   "execution_count": 5,
   "id": "d7eef058",
   "metadata": {},
   "outputs": [
    {
     "name": "stdout",
     "output_type": "stream",
     "text": [
      "Index(['timestamp', 'pressure', 'flow', 'rolling_mean', 'delta',\n",
      "       'pressure_lag_1', 'flow_lag_1', 'pressure_lag_2', 'flow_lag_2',\n",
      "       'pressure_lag_3', 'flow_lag_3', 'pressure_lag_4', 'flow_lag_4',\n",
      "       'pressure_lag_5', 'flow_lag_5', 'pressure_lag_6', 'flow_lag_6',\n",
      "       'pressure_lag_7', 'flow_lag_7', 'pressure_lag_8', 'flow_lag_8',\n",
      "       'pressure_lag_9', 'flow_lag_9', 'pressure_lag_10', 'flow_lag_10',\n",
      "       'pressure_min', 'pressure_max', 'pressure_std', 'flow_min', 'flow_max',\n",
      "       'flow_std', 'leak'],\n",
      "      dtype='object')\n",
      "Index(['timestamp', 'pressure', 'flow', 'rolling_mean', 'delta',\n",
      "       'pressure_lag_1', 'flow_lag_1', 'pressure_lag_2', 'flow_lag_2',\n",
      "       'pressure_lag_3', 'flow_lag_3', 'pressure_lag_4', 'flow_lag_4',\n",
      "       'pressure_lag_5', 'flow_lag_5', 'pressure_lag_6', 'flow_lag_6',\n",
      "       'pressure_lag_7', 'flow_lag_7', 'pressure_lag_8', 'flow_lag_8',\n",
      "       'pressure_lag_9', 'flow_lag_9', 'pressure_lag_10', 'flow_lag_10',\n",
      "       'pressure_min', 'pressure_max', 'pressure_std', 'flow_min', 'flow_max',\n",
      "       'flow_std', 'leak'],\n",
      "      dtype='object')\n"
     ]
    }
   ],
   "source": [
    "print(train.columns)\n",
    "print(test.columns)"
   ]
  },
  {
   "cell_type": "code",
   "execution_count": 11,
   "id": "b74c8942",
   "metadata": {},
   "outputs": [],
   "source": [
    "scaler = StandardScaler()\n",
    "X_train_scaled = scaler.fit_transform(X_train)\n",
    "X_test_scaled = scaler.transform(X_test)\n"
   ]
  },
  {
   "cell_type": "code",
   "execution_count": 12,
   "id": "cca1879c",
   "metadata": {},
   "outputs": [
    {
     "ename": "ValueError",
     "evalue": "This solver needs samples of at least 2 classes in the data, but the data contains only one class: 0",
     "output_type": "error",
     "traceback": [
      "\u001b[1;31m---------------------------------------------------------------------------\u001b[0m",
      "\u001b[1;31mValueError\u001b[0m                                Traceback (most recent call last)",
      "Cell \u001b[1;32mIn[12], line 2\u001b[0m\n\u001b[0;32m      1\u001b[0m log_reg \u001b[38;5;241m=\u001b[39m LogisticRegression(max_iter\u001b[38;5;241m=\u001b[39m\u001b[38;5;241m500\u001b[39m)\n\u001b[1;32m----> 2\u001b[0m \u001b[43mlog_reg\u001b[49m\u001b[38;5;241;43m.\u001b[39;49m\u001b[43mfit\u001b[49m\u001b[43m(\u001b[49m\u001b[43mX_train_scaled\u001b[49m\u001b[43m,\u001b[49m\u001b[43m \u001b[49m\u001b[43my_train\u001b[49m\u001b[43m)\u001b[49m\n\u001b[0;32m      3\u001b[0m y_pred_lr \u001b[38;5;241m=\u001b[39m log_reg\u001b[38;5;241m.\u001b[39mpredict(X_test_scaled)\n\u001b[0;32m      4\u001b[0m \u001b[38;5;28mprint\u001b[39m(\u001b[38;5;124m\"\u001b[39m\u001b[38;5;124mLogistic Regression Accuracy:\u001b[39m\u001b[38;5;124m\"\u001b[39m, accuracy_score(y_test, y_pred_lr))\n",
      "File \u001b[1;32mc:\\Mini_Project_4-1\\smart-water-plus\\venv\\lib\\site-packages\\sklearn\\base.py:1389\u001b[0m, in \u001b[0;36m_fit_context.<locals>.decorator.<locals>.wrapper\u001b[1;34m(estimator, *args, **kwargs)\u001b[0m\n\u001b[0;32m   1382\u001b[0m     estimator\u001b[38;5;241m.\u001b[39m_validate_params()\n\u001b[0;32m   1384\u001b[0m \u001b[38;5;28;01mwith\u001b[39;00m config_context(\n\u001b[0;32m   1385\u001b[0m     skip_parameter_validation\u001b[38;5;241m=\u001b[39m(\n\u001b[0;32m   1386\u001b[0m         prefer_skip_nested_validation \u001b[38;5;129;01mor\u001b[39;00m global_skip_validation\n\u001b[0;32m   1387\u001b[0m     )\n\u001b[0;32m   1388\u001b[0m ):\n\u001b[1;32m-> 1389\u001b[0m     \u001b[38;5;28;01mreturn\u001b[39;00m fit_method(estimator, \u001b[38;5;241m*\u001b[39margs, \u001b[38;5;241m*\u001b[39m\u001b[38;5;241m*\u001b[39mkwargs)\n",
      "File \u001b[1;32mc:\\Mini_Project_4-1\\smart-water-plus\\venv\\lib\\site-packages\\sklearn\\linear_model\\_logistic.py:1301\u001b[0m, in \u001b[0;36mLogisticRegression.fit\u001b[1;34m(self, X, y, sample_weight)\u001b[0m\n\u001b[0;32m   1299\u001b[0m classes_ \u001b[38;5;241m=\u001b[39m \u001b[38;5;28mself\u001b[39m\u001b[38;5;241m.\u001b[39mclasses_\n\u001b[0;32m   1300\u001b[0m \u001b[38;5;28;01mif\u001b[39;00m n_classes \u001b[38;5;241m<\u001b[39m \u001b[38;5;241m2\u001b[39m:\n\u001b[1;32m-> 1301\u001b[0m     \u001b[38;5;28;01mraise\u001b[39;00m \u001b[38;5;167;01mValueError\u001b[39;00m(\n\u001b[0;32m   1302\u001b[0m         \u001b[38;5;124m\"\u001b[39m\u001b[38;5;124mThis solver needs samples of at least 2 classes\u001b[39m\u001b[38;5;124m\"\u001b[39m\n\u001b[0;32m   1303\u001b[0m         \u001b[38;5;124m\"\u001b[39m\u001b[38;5;124m in the data, but the data contains only one\u001b[39m\u001b[38;5;124m\"\u001b[39m\n\u001b[0;32m   1304\u001b[0m         \u001b[38;5;124m\"\u001b[39m\u001b[38;5;124m class: \u001b[39m\u001b[38;5;132;01m%r\u001b[39;00m\u001b[38;5;124m\"\u001b[39m \u001b[38;5;241m%\u001b[39m classes_[\u001b[38;5;241m0\u001b[39m]\n\u001b[0;32m   1305\u001b[0m     )\n\u001b[0;32m   1307\u001b[0m \u001b[38;5;28;01mif\u001b[39;00m \u001b[38;5;28mlen\u001b[39m(\u001b[38;5;28mself\u001b[39m\u001b[38;5;241m.\u001b[39mclasses_) \u001b[38;5;241m==\u001b[39m \u001b[38;5;241m2\u001b[39m:\n\u001b[0;32m   1308\u001b[0m     n_classes \u001b[38;5;241m=\u001b[39m \u001b[38;5;241m1\u001b[39m\n",
      "\u001b[1;31mValueError\u001b[0m: This solver needs samples of at least 2 classes in the data, but the data contains only one class: 0"
     ]
    }
   ],
   "source": [
    "log_reg = LogisticRegression(max_iter=500)\n",
    "log_reg.fit(X_train_scaled, y_train)\n",
    "y_pred_lr = log_reg.predict(X_test_scaled)\n",
    "print(\"Logistic Regression Accuracy:\", accuracy_score(y_test, y_pred_lr))\n",
    "print(classification_report(y_test, y_pred_lr))"
   ]
  },
  {
   "cell_type": "code",
   "execution_count": 9,
   "id": "c9d816a8",
   "metadata": {},
   "outputs": [
    {
     "name": "stdout",
     "output_type": "stream",
     "text": [
      "pressure           2\n",
      "flow               0\n",
      "rolling_mean       2\n",
      "delta              0\n",
      "pressure_lag_1     2\n",
      "flow_lag_1         0\n",
      "pressure_lag_2     2\n",
      "flow_lag_2         0\n",
      "pressure_lag_3     2\n",
      "flow_lag_3         2\n",
      "pressure_lag_4     2\n",
      "flow_lag_4         2\n",
      "pressure_lag_5     2\n",
      "flow_lag_5         2\n",
      "pressure_lag_6     2\n",
      "flow_lag_6         2\n",
      "pressure_lag_7     2\n",
      "flow_lag_7         2\n",
      "pressure_lag_8     2\n",
      "flow_lag_8         2\n",
      "pressure_lag_9     2\n",
      "flow_lag_9         2\n",
      "pressure_lag_10    2\n",
      "flow_lag_10        2\n",
      "pressure_min       2\n",
      "pressure_max       2\n",
      "pressure_std       0\n",
      "flow_min           0\n",
      "flow_max           0\n",
      "flow_std           0\n",
      "dtype: int64\n",
      "pressure           0\n",
      "flow               0\n",
      "rolling_mean       0\n",
      "delta              0\n",
      "pressure_lag_1     1\n",
      "flow_lag_1         0\n",
      "pressure_lag_2     1\n",
      "flow_lag_2         0\n",
      "pressure_lag_3     1\n",
      "flow_lag_3         1\n",
      "pressure_lag_4     1\n",
      "flow_lag_4         1\n",
      "pressure_lag_5     1\n",
      "flow_lag_5         1\n",
      "pressure_lag_6     1\n",
      "flow_lag_6         1\n",
      "pressure_lag_7     1\n",
      "flow_lag_7         1\n",
      "pressure_lag_8     1\n",
      "flow_lag_8         1\n",
      "pressure_lag_9     1\n",
      "flow_lag_9         1\n",
      "pressure_lag_10    1\n",
      "flow_lag_10        1\n",
      "pressure_min       0\n",
      "pressure_max       0\n",
      "pressure_std       0\n",
      "flow_min           0\n",
      "flow_max           0\n",
      "flow_std           0\n",
      "dtype: int64\n"
     ]
    }
   ],
   "source": [
    "print(X_train.isnull().sum())\n",
    "print(X_test.isnull().sum())"
   ]
  },
  {
   "cell_type": "code",
   "execution_count": 10,
   "id": "3de0a16b",
   "metadata": {},
   "outputs": [
    {
     "name": "stderr",
     "output_type": "stream",
     "text": [
      "c:\\Mini_Project_4-1\\smart-water-plus\\venv\\lib\\site-packages\\sklearn\\impute\\_base.py:635: UserWarning: Skipping features without any observed values: ['pressure' 'rolling_mean' 'pressure_lag_1' 'pressure_lag_2'\n",
      " 'pressure_lag_3' 'flow_lag_3' 'pressure_lag_4' 'flow_lag_4'\n",
      " 'pressure_lag_5' 'flow_lag_5' 'pressure_lag_6' 'flow_lag_6'\n",
      " 'pressure_lag_7' 'flow_lag_7' 'pressure_lag_8' 'flow_lag_8'\n",
      " 'pressure_lag_9' 'flow_lag_9' 'pressure_lag_10' 'flow_lag_10'\n",
      " 'pressure_min' 'pressure_max']. At least one non-missing value is needed for imputation with strategy='mean'.\n",
      "  warnings.warn(\n",
      "c:\\Mini_Project_4-1\\smart-water-plus\\venv\\lib\\site-packages\\sklearn\\impute\\_base.py:635: UserWarning: Skipping features without any observed values: ['pressure' 'rolling_mean' 'pressure_lag_1' 'pressure_lag_2'\n",
      " 'pressure_lag_3' 'flow_lag_3' 'pressure_lag_4' 'flow_lag_4'\n",
      " 'pressure_lag_5' 'flow_lag_5' 'pressure_lag_6' 'flow_lag_6'\n",
      " 'pressure_lag_7' 'flow_lag_7' 'pressure_lag_8' 'flow_lag_8'\n",
      " 'pressure_lag_9' 'flow_lag_9' 'pressure_lag_10' 'flow_lag_10'\n",
      " 'pressure_min' 'pressure_max']. At least one non-missing value is needed for imputation with strategy='mean'.\n",
      "  warnings.warn(\n"
     ]
    }
   ],
   "source": [
    "from sklearn.impute import SimpleImputer\n",
    "\n",
    "imputer = SimpleImputer(strategy=\"mean\")\n",
    "X_train = imputer.fit_transform(X_train)\n",
    "X_test = imputer.transform(X_test)\n"
   ]
  },
  {
   "cell_type": "code",
   "execution_count": 13,
   "id": "4ed74708",
   "metadata": {},
   "outputs": [
    {
     "name": "stdout",
     "output_type": "stream",
     "text": [
      "Train classes: [0] leak\n",
      "0    2\n",
      "Name: count, dtype: int64\n",
      "Test classes: [0] leak\n",
      "0    1\n",
      "Name: count, dtype: int64\n"
     ]
    }
   ],
   "source": [
    "print(\"Train classes:\", y_train.unique(), y_train.value_counts())\n",
    "print(\"Test classes:\", y_test.unique(), y_test.value_counts())"
   ]
  },
  {
   "cell_type": "code",
   "execution_count": 14,
   "id": "a3dec36b",
   "metadata": {},
   "outputs": [],
   "source": [
    "from sklearn.model_selection import train_test_split\n",
    "\n",
    "X = train.drop(columns=['leak', 'timestamp'])\n",
    "y = train['leak']\n",
    "\n",
    "X_train, X_val, y_train, y_val = train_test_split(\n",
    "    X, y, test_size=0.2, random_state=42, stratify=y\n",
    ")\n"
   ]
  },
  {
   "cell_type": "code",
   "execution_count": null,
   "id": "7c4dbc39",
   "metadata": {},
   "outputs": [],
   "source": []
  }
 ],
 "metadata": {
  "kernelspec": {
   "display_name": "venv",
   "language": "python",
   "name": "python3"
  },
  "language_info": {
   "codemirror_mode": {
    "name": "ipython",
    "version": 3
   },
   "file_extension": ".py",
   "mimetype": "text/x-python",
   "name": "python",
   "nbconvert_exporter": "python",
   "pygments_lexer": "ipython3",
   "version": "3.9.9"
  }
 },
 "nbformat": 4,
 "nbformat_minor": 5
}
